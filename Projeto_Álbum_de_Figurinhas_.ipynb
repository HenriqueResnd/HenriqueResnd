{
  "nbformat": 4,
  "nbformat_minor": 0,
  "metadata": {
    "colab": {
      "name": "Projeto Álbum de Figurinhas .ipynb",
      "provenance": [],
      "authorship_tag": "ABX9TyNPmxIYmfA+YVlbzdu/hakx",
      "include_colab_link": true
    },
    "kernelspec": {
      "name": "python3",
      "display_name": "Python 3"
    },
    "language_info": {
      "name": "python"
    }
  },
  "cells": [
    {
      "cell_type": "markdown",
      "metadata": {
        "id": "view-in-github",
        "colab_type": "text"
      },
      "source": [
        "<a href=\"https://colab.research.google.com/github/HenriqueResnd/HenriqueResnd/blob/main/Projeto_%C3%81lbum_de_Figurinhas_.ipynb\" target=\"_parent\"><img src=\"https://colab.research.google.com/assets/colab-badge.svg\" alt=\"Open In Colab\"/></a>"
      ]
    },
    {
      "cell_type": "markdown",
      "metadata": {
        "id": "wItoNbMBYLLK"
      },
      "source": [
        "# Projeto\n",
        "\n",
        "* Total de 212 cromos.\n",
        "* Preço do livro ilustrado capa brochura - 10,00 reais.\n",
        "* Preço do pack com 4 cromos - 4,00 reais.\n",
        "\n",
        "## Suposições\n",
        "\n",
        "1. Todas as figurinhas tem igual probabilidade de serem sorteadas.\n",
        "2. Um pack é comprado por vez até que se complete o álbum.\n",
        "\n",
        "## Algoritimo\n",
        "\n",
        "1. Comprar um pack de figurinhas (4 figurinhas cada, que podem ser repetidas);\n",
        "2. Colar no almbúm e verificar se o álbum está completo;\n",
        "3. Caso esteja incompleto, comprar mais um pack, caso contrário terminar.\n",
        "\n",
        "## Perguntas\n",
        "1. Quantos pacotes e qual o valor, em média, são necessários para completar o álbum nessas condições?\n",
        "2. Qual é a distribuição empírica do valor investido para completar o álbum?\n",
        "3. Qual a probabilidade de se gastar menos que R$ 1500,00 para completar o álbum?\n",
        "4. Qual a probabilidade de se gastar mais do que a média para completar o álbum?\n",
        "5. Qual é um intervalo de confiança de 95% para o gasto ao se completar o álbum?\n",
        "6. Qual o valor médio gasto caso se esteja completando o álbum com mais um amigo?\n",
        "7. Qual o valor médio gasto caso se esteja completando o álbum com mais dois amigos?\n"
      ]
    },
    {
      "cell_type": "markdown",
      "metadata": {
        "id": "R-5rDRqIdFPg"
      },
      "source": [
        "### Bibliotecas importadas"
      ]
    },
    {
      "cell_type": "code",
      "metadata": {
        "id": "vK4NJjgtdECs"
      },
      "source": [
        "import pandas as pd\n",
        "import numpy as np\n"
      ],
      "execution_count": 13,
      "outputs": []
    },
    {
      "cell_type": "markdown",
      "metadata": {
        "id": "jHMRgjGWcF5A"
      },
      "source": [
        "Iniciar escrevendo as suposições:"
      ]
    },
    {
      "cell_type": "code",
      "metadata": {
        "id": "9r5xkQeicROX"
      },
      "source": [
        "n_album = 212\n",
        "p_album = 10\n",
        "n_figurinhas_pack = 4\n",
        "p_pack = 4"
      ],
      "execution_count": 14,
      "outputs": []
    },
    {
      "cell_type": "markdown",
      "metadata": {
        "id": "J2E2AWUsdu0E"
      },
      "source": [
        "### Comprando o album"
      ]
    },
    {
      "cell_type": "code",
      "metadata": {
        "id": "ewJh7UCTcyl2"
      },
      "source": [
        "album = np.zeros(n_album)  # Álbum zerado\n"
      ],
      "execution_count": 5,
      "outputs": []
    },
    {
      "cell_type": "markdown",
      "metadata": {
        "id": "nNPWk53yd1DP"
      },
      "source": [
        "### Comprando e abrindo pacotinhos "
      ]
    },
    {
      "cell_type": "code",
      "metadata": {
        "id": "N8MGE-G8d6BY"
      },
      "source": [
        "# np.radom.choice (a, size=n) determina a escolha aleatória das figurinhas dentro do pack, onde a é o array do qual se deeja retirar a amostra e size é o tamanho da amostra.\n",
        "# np.arange(0, n_album) cria como se fosse o álbum completo e determina a população de onde é retirada a amostra.\n",
        "pack = np.random.choice(np.arange(0, n_album) , size = 4)"
      ],
      "execution_count": 6,
      "outputs": []
    },
    {
      "cell_type": "markdown",
      "metadata": {
        "id": "vqbu22m-f8ti"
      },
      "source": [
        "### Colando as figurinhas no álbum"
      ]
    },
    {
      "cell_type": "code",
      "metadata": {
        "id": "fnJYqs0OgCFb"
      },
      "source": [
        "album[pack[0]] += 1\n",
        "album[pack[1]] += 1\n",
        "album[pack[2]] += 1\n",
        "album[pack[3]] += 1"
      ],
      "execution_count": 7,
      "outputs": []
    },
    {
      "cell_type": "markdown",
      "metadata": {
        "id": "nPbBqJ8cibMz"
      },
      "source": [
        "### Conferindo se o album está completo"
      ]
    },
    {
      "cell_type": "code",
      "metadata": {
        "colab": {
          "base_uri": "https://localhost:8080/"
        },
        "id": "VC8hdpXTihlR",
        "outputId": "6ebe0aa1-0fed-47bd-8f58-976498484e09"
      },
      "source": [
        "np.alltrue(album >= 1)  # Fala se o álbum está completo True = sim e False = não\n",
        "not np.all(album >= 1)\n",
        "album >=1  # Mostra como está o álbum\n"
      ],
      "execution_count": 9,
      "outputs": [
        {
          "output_type": "execute_result",
          "data": {
            "text/plain": [
              "array([False, False, False, False, False, False, False, False, False,\n",
              "       False, False, False, False, False, False, False,  True, False,\n",
              "       False, False, False, False, False, False, False, False, False,\n",
              "       False, False, False, False, False, False, False, False, False,\n",
              "       False, False, False, False, False, False, False, False, False,\n",
              "       False, False, False, False, False, False, False, False, False,\n",
              "       False, False, False, False, False, False, False, False, False,\n",
              "        True, False, False, False, False, False, False, False, False,\n",
              "       False, False, False, False, False, False, False, False, False,\n",
              "       False, False, False, False, False,  True, False, False, False,\n",
              "       False, False, False, False, False, False, False, False, False,\n",
              "       False, False, False, False, False,  True, False, False, False,\n",
              "       False, False, False, False, False, False, False, False, False,\n",
              "       False, False, False, False, False, False, False, False, False,\n",
              "       False, False, False, False, False, False, False, False, False,\n",
              "       False, False, False, False, False, False, False, False, False,\n",
              "       False, False, False, False, False, False, False, False, False,\n",
              "       False, False, False, False, False, False, False, False, False,\n",
              "       False, False, False, False, False, False, False, False, False,\n",
              "       False, False, False, False, False, False, False, False, False,\n",
              "       False, False, False, False, False, False, False, False, False,\n",
              "       False, False, False, False, False, False, False, False, False,\n",
              "       False, False, False, False, False, False, False, False, False,\n",
              "       False, False, False, False, False])"
            ]
          },
          "metadata": {},
          "execution_count": 9
        }
      ]
    },
    {
      "cell_type": "markdown",
      "metadata": {
        "id": "Ar9DPMKXjwvY"
      },
      "source": [
        "## Juntando as etapas para coletar as informações de completar o ábum"
      ]
    },
    {
      "cell_type": "code",
      "metadata": {
        "colab": {
          "base_uri": "https://localhost:8080/"
        },
        "id": "NvRD112FjyzP",
        "outputId": "c3286247-7fec-4389-b4c1-6c775a85000b"
      },
      "source": [
        "def SimulaAlbum():  # Definir a montagem de um álbum como uma função e retorna quantos packs foram utilizados para completar o album.\n",
        "  # Criando o álbum\n",
        "  album = np.zeros(n_album)\n",
        "  # Completando o álbum\n",
        "  while not np.all(album >=1):  # Utilizando o while como estrutura de repetição enquanto o álbum não estiver completo.\n",
        "\n",
        "    # Abrindo os packs e verificando as figurinhas\n",
        "    pack = np.random.choice(np.arange(0, n_album) , size = 4)\n",
        "\n",
        "    # colando as figurinhas de forma simplificada utilizando estrutura for\n",
        "    for i in (0, 1, 2, 3):\n",
        "      album[pack[i]] += 1\n",
        "    packs = sum(album)/4\n",
        "  return packs\n",
        "SimulaAlbum()  # Função que simula completar o album\n",
        "\n",
        "\n",
        "  "
      ],
      "execution_count": 65,
      "outputs": [
        {
          "output_type": "execute_result",
          "data": {
            "text/plain": [
              "206.0"
            ]
          },
          "metadata": {},
          "execution_count": 65
        }
      ]
    },
    {
      "cell_type": "markdown",
      "metadata": {
        "id": "65I_9fsTpPF1"
      },
      "source": [
        "# Respondendo as perguntas"
      ]
    },
    {
      "cell_type": "markdown",
      "metadata": {
        "id": "72zzz-eBpYI6"
      },
      "source": [
        "## Pergunta 1 - Quantos pacotes e qual o valor, em média, são necessários para completar o álbum nessas condições?"
      ]
    },
    {
      "cell_type": "code",
      "metadata": {
        "id": "3G6ar4TzqM1e"
      },
      "source": [
        "s = 1000  # Quantidade de simulações\n",
        "soma_packs = 0  # Contador para somar os packs das simulações\n",
        "for i in range(s):\n",
        "  soma_packs += SimulaAlbum()\n",
        "media_packs = soma_packs / s\n",
        "custo_total = media_packs * p_pack + p_album"
      ],
      "execution_count": 86,
      "outputs": []
    },
    {
      "cell_type": "code",
      "metadata": {
        "colab": {
          "base_uri": "https://localhost:8080/"
        },
        "id": "vdOQer0UsaJr",
        "outputId": "17f641f3-11b4-4dae-ee76-4206050bc500"
      },
      "source": [
        "print(f'Em média você vai precisar comprar {media_packs:.0f} pacotinhos e gastar R$ {custo_total:.2f} para poder completar o seu álbum sozinho.')"
      ],
      "execution_count": 87,
      "outputs": [
        {
          "output_type": "stream",
          "name": "stdout",
          "text": [
            "Em média você vai precisar comprar 314 pacotinhos e gastar R$ 1267.44 para poder completar o seu álbum sozinho.\n"
          ]
        }
      ]
    },
    {
      "cell_type": "markdown",
      "metadata": {
        "id": "FSOL3CQVpkQl"
      },
      "source": [
        "## Pergunta 2 - Qual é a distribuição empírica do valor investido para completar o álbum?"
      ]
    },
    {
      "cell_type": "code",
      "metadata": {
        "id": "rYt0H7S2GZyB"
      },
      "source": [
        ""
      ],
      "execution_count": null,
      "outputs": []
    },
    {
      "cell_type": "markdown",
      "metadata": {
        "id": "wSn__eyopkTj"
      },
      "source": [
        "## Pergunta 3 - Qual a probabilidade de se gastar menos que R$ 1500,00 para completar o álbum?"
      ]
    },
    {
      "cell_type": "markdown",
      "metadata": {
        "id": "FcMXZFPjpkWg"
      },
      "source": [
        "## Pergunta 4 - Qual a probabilidade de se gastar mais do que a média para completar o álbum?"
      ]
    },
    {
      "cell_type": "markdown",
      "metadata": {
        "id": "44iakHIOpkZR"
      },
      "source": [
        "## Pergunta 5 - Qual é um intervalo de confiança de 95% para o gasto ao se completar o álbum?"
      ]
    },
    {
      "cell_type": "markdown",
      "metadata": {
        "id": "kLOn4REVpkcR"
      },
      "source": [
        "## Pergunta 6 - Qual o valor médio gasto caso se esteja completando o álbum com mais um amigo?"
      ]
    },
    {
      "cell_type": "markdown",
      "metadata": {
        "id": "delHA2tkpkfJ"
      },
      "source": [
        "## Pergunta 7 - Qual o valor médio gasto caso se esteja completando o álbum com mais dois amigos?"
      ]
    }
  ]
}